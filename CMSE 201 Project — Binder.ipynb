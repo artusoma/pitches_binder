{
 "cells": [
  {
   "cell_type": "markdown",
   "metadata": {},
   "source": [
    "### **CMSE 201 Final Project**\n",
    "#### Matthew Artuso\n",
    "#### Section_005\n",
    "#### 3 December 2019"
   ]
  },
  {
   "cell_type": "markdown",
   "metadata": {},
   "source": [
    "# Applying Data Analytics and Machine Learning to Baseball"
   ]
  },
  {
   "cell_type": "markdown",
   "metadata": {},
   "source": [
    "## Contents\n",
    "\n",
    "1. [Background and Motivation](#Background_and_Motivation)\n",
    "\n",
    "\n",
    "2. [Methodology](#Methodology)\n",
    "    \n",
    "    2.1. [Investigating the Correctness of Umpires](#Investigating)\n",
    "    \n",
    "    2.2. [Classifying Pitches with Sci-Kit Learn](#Classifying1)\n",
    "    \n",
    "    2.3. [Multi-Class Classification](#Classifying2)\n",
    "\n",
    "    \n",
    "3. [Results](#Results)\n",
    "\n",
    "\n",
    "4. [Discussion and Conclusion](#Discussion)\n",
    "\n",
    "\n",
    "5. [References](#References)"
   ]
  },
  {
   "cell_type": "code",
   "execution_count": 2,
   "metadata": {},
   "outputs": [],
   "source": [
    "## Import modules for part 1\n",
    "import pandas as pd\n",
    "import numpy as np\n",
    "import matplotlib.pyplot as plt\n",
    "import matplotlib.pyplot as figure\n",
    "import matplotlib.patches as pat\n",
    "import seaborn as sns\n",
    "%matplotlib inline"
   ]
  },
  {
   "cell_type": "markdown",
   "metadata": {},
   "source": [
    "<a id='Data_Overview'></a>\n",
    "### Data Overview\n",
    "This dataset is from user Kaggle user Paul Schale:\n",
    ">https://www.kaggle.com/pschale/mlb-pitch-data-20152018\n",
    "\n",
    "He scraped this data from an MLB data bank found here:\n",
    ">http://gd2.mlb.com/components/game/mlb/\n"
   ]
  },
  {
   "cell_type": "markdown",
   "metadata": {},
   "source": [
    "This dataset has two files we will look at (although more are present). First, there is a pitches.csv that contains every pitch thrown from 2015 to 2018 and contains the majority of the data that will be used, such as pitch location, speed, and what it was called at home plate. This data has an ab_id column (an ID for the at-bat) such that we can match it up with the second data file, atbats.csv. Although the at-bats data also has a lot of information, we will primarily use this data to get pitcher handedness, something pitches.csv does not have. \n",
    "\n",
    "Also, some important terminology for those unfamiliar with baseball:\n",
    "- Breaking Ball - A pitch that curves as it approaches the batter\n",
    "- Break Length - How far the pitch moves from a straight trajectory\n"
   ]
  },
  {
   "cell_type": "code",
   "execution_count": 3,
   "metadata": {},
   "outputs": [],
   "source": [
    "pitches = pd.read_csv('data/pitches.csv') ## Imports pitches"
   ]
  },
  {
   "cell_type": "code",
   "execution_count": 4,
   "metadata": {},
   "outputs": [],
   "source": [
    "atbats = pd.read_csv('data/atbats.csv') ## Import the atbats data"
   ]
  },
  {
   "cell_type": "code",
   "execution_count": 5,
   "metadata": {
    "scrolled": false
   },
   "outputs": [
    {
     "data": {
      "text/html": [
       "<div>\n",
       "<style scoped>\n",
       "    .dataframe tbody tr th:only-of-type {\n",
       "        vertical-align: middle;\n",
       "    }\n",
       "\n",
       "    .dataframe tbody tr th {\n",
       "        vertical-align: top;\n",
       "    }\n",
       "\n",
       "    .dataframe thead th {\n",
       "        text-align: right;\n",
       "    }\n",
       "</style>\n",
       "<table border=\"1\" class=\"dataframe\">\n",
       "  <thead>\n",
       "    <tr style=\"text-align: right;\">\n",
       "      <th></th>\n",
       "      <th>px</th>\n",
       "      <th>pz</th>\n",
       "      <th>start_speed</th>\n",
       "      <th>end_speed</th>\n",
       "      <th>spin_rate</th>\n",
       "      <th>spin_dir</th>\n",
       "      <th>break_angle</th>\n",
       "      <th>break_length</th>\n",
       "      <th>break_y</th>\n",
       "      <th>ax</th>\n",
       "      <th>...</th>\n",
       "      <th>event_num</th>\n",
       "      <th>b_score</th>\n",
       "      <th>ab_id</th>\n",
       "      <th>b_count</th>\n",
       "      <th>s_count</th>\n",
       "      <th>outs</th>\n",
       "      <th>pitch_num</th>\n",
       "      <th>on_1b</th>\n",
       "      <th>on_2b</th>\n",
       "      <th>on_3b</th>\n",
       "    </tr>\n",
       "  </thead>\n",
       "  <tbody>\n",
       "    <tr>\n",
       "      <th>0</th>\n",
       "      <td>0.416</td>\n",
       "      <td>2.963</td>\n",
       "      <td>92.9</td>\n",
       "      <td>84.1</td>\n",
       "      <td>2305.052</td>\n",
       "      <td>159.235</td>\n",
       "      <td>-25.0</td>\n",
       "      <td>3.2</td>\n",
       "      <td>23.7</td>\n",
       "      <td>7.665</td>\n",
       "      <td>...</td>\n",
       "      <td>3</td>\n",
       "      <td>0.0</td>\n",
       "      <td>2.015000e+09</td>\n",
       "      <td>0.0</td>\n",
       "      <td>0.0</td>\n",
       "      <td>0.0</td>\n",
       "      <td>1.0</td>\n",
       "      <td>0.0</td>\n",
       "      <td>0.0</td>\n",
       "      <td>0.0</td>\n",
       "    </tr>\n",
       "    <tr>\n",
       "      <th>1</th>\n",
       "      <td>-0.191</td>\n",
       "      <td>2.347</td>\n",
       "      <td>92.8</td>\n",
       "      <td>84.1</td>\n",
       "      <td>2689.935</td>\n",
       "      <td>151.402</td>\n",
       "      <td>-40.7</td>\n",
       "      <td>3.4</td>\n",
       "      <td>23.7</td>\n",
       "      <td>12.043</td>\n",
       "      <td>...</td>\n",
       "      <td>4</td>\n",
       "      <td>0.0</td>\n",
       "      <td>2.015000e+09</td>\n",
       "      <td>0.0</td>\n",
       "      <td>1.0</td>\n",
       "      <td>0.0</td>\n",
       "      <td>2.0</td>\n",
       "      <td>0.0</td>\n",
       "      <td>0.0</td>\n",
       "      <td>0.0</td>\n",
       "    </tr>\n",
       "    <tr>\n",
       "      <th>2</th>\n",
       "      <td>-0.518</td>\n",
       "      <td>3.284</td>\n",
       "      <td>94.1</td>\n",
       "      <td>85.2</td>\n",
       "      <td>2647.972</td>\n",
       "      <td>145.125</td>\n",
       "      <td>-43.7</td>\n",
       "      <td>3.7</td>\n",
       "      <td>23.7</td>\n",
       "      <td>14.368</td>\n",
       "      <td>...</td>\n",
       "      <td>5</td>\n",
       "      <td>0.0</td>\n",
       "      <td>2.015000e+09</td>\n",
       "      <td>0.0</td>\n",
       "      <td>2.0</td>\n",
       "      <td>0.0</td>\n",
       "      <td>3.0</td>\n",
       "      <td>0.0</td>\n",
       "      <td>0.0</td>\n",
       "      <td>0.0</td>\n",
       "    </tr>\n",
       "    <tr>\n",
       "      <th>3</th>\n",
       "      <td>-0.641</td>\n",
       "      <td>1.221</td>\n",
       "      <td>91.0</td>\n",
       "      <td>84.0</td>\n",
       "      <td>1289.590</td>\n",
       "      <td>169.751</td>\n",
       "      <td>-1.3</td>\n",
       "      <td>5.0</td>\n",
       "      <td>23.8</td>\n",
       "      <td>2.104</td>\n",
       "      <td>...</td>\n",
       "      <td>6</td>\n",
       "      <td>0.0</td>\n",
       "      <td>2.015000e+09</td>\n",
       "      <td>0.0</td>\n",
       "      <td>2.0</td>\n",
       "      <td>0.0</td>\n",
       "      <td>4.0</td>\n",
       "      <td>0.0</td>\n",
       "      <td>0.0</td>\n",
       "      <td>0.0</td>\n",
       "    </tr>\n",
       "    <tr>\n",
       "      <th>4</th>\n",
       "      <td>-1.821</td>\n",
       "      <td>2.083</td>\n",
       "      <td>75.4</td>\n",
       "      <td>69.6</td>\n",
       "      <td>1374.569</td>\n",
       "      <td>280.671</td>\n",
       "      <td>18.4</td>\n",
       "      <td>12.0</td>\n",
       "      <td>23.8</td>\n",
       "      <td>-10.280</td>\n",
       "      <td>...</td>\n",
       "      <td>7</td>\n",
       "      <td>0.0</td>\n",
       "      <td>2.015000e+09</td>\n",
       "      <td>1.0</td>\n",
       "      <td>2.0</td>\n",
       "      <td>0.0</td>\n",
       "      <td>5.0</td>\n",
       "      <td>0.0</td>\n",
       "      <td>0.0</td>\n",
       "      <td>0.0</td>\n",
       "    </tr>\n",
       "  </tbody>\n",
       "</table>\n",
       "<p>5 rows × 40 columns</p>\n",
       "</div>"
      ],
      "text/plain": [
       "      px     pz  start_speed  end_speed  spin_rate  spin_dir  break_angle  \\\n",
       "0  0.416  2.963         92.9       84.1   2305.052   159.235        -25.0   \n",
       "1 -0.191  2.347         92.8       84.1   2689.935   151.402        -40.7   \n",
       "2 -0.518  3.284         94.1       85.2   2647.972   145.125        -43.7   \n",
       "3 -0.641  1.221         91.0       84.0   1289.590   169.751         -1.3   \n",
       "4 -1.821  2.083         75.4       69.6   1374.569   280.671         18.4   \n",
       "\n",
       "   break_length  break_y      ax  ...  event_num  b_score         ab_id  \\\n",
       "0           3.2     23.7   7.665  ...          3      0.0  2.015000e+09   \n",
       "1           3.4     23.7  12.043  ...          4      0.0  2.015000e+09   \n",
       "2           3.7     23.7  14.368  ...          5      0.0  2.015000e+09   \n",
       "3           5.0     23.8   2.104  ...          6      0.0  2.015000e+09   \n",
       "4          12.0     23.8 -10.280  ...          7      0.0  2.015000e+09   \n",
       "\n",
       "   b_count  s_count  outs  pitch_num  on_1b  on_2b  on_3b  \n",
       "0      0.0      0.0   0.0        1.0    0.0    0.0    0.0  \n",
       "1      0.0      1.0   0.0        2.0    0.0    0.0    0.0  \n",
       "2      0.0      2.0   0.0        3.0    0.0    0.0    0.0  \n",
       "3      0.0      2.0   0.0        4.0    0.0    0.0    0.0  \n",
       "4      1.0      2.0   0.0        5.0    0.0    0.0    0.0  \n",
       "\n",
       "[5 rows x 40 columns]"
      ]
     },
     "execution_count": 5,
     "metadata": {},
     "output_type": "execute_result"
    }
   ],
   "source": [
    "# Look at data\n",
    "pitches.head()"
   ]
  },
  {
   "cell_type": "code",
   "execution_count": 6,
   "metadata": {},
   "outputs": [
    {
     "data": {
      "text/plain": [
       "Index(['px', 'pz', 'start_speed', 'end_speed', 'spin_rate', 'spin_dir',\n",
       "       'break_angle', 'break_length', 'break_y', 'ax', 'ay', 'az', 'sz_bot',\n",
       "       'sz_top', 'type_confidence', 'vx0', 'vy0', 'vz0', 'x', 'x0', 'y', 'y0',\n",
       "       'z0', 'pfx_x', 'pfx_z', 'nasty', 'zone', 'code', 'type', 'pitch_type',\n",
       "       'event_num', 'b_score', 'ab_id', 'b_count', 's_count', 'outs',\n",
       "       'pitch_num', 'on_1b', 'on_2b', 'on_3b'],\n",
       "      dtype='object')"
      ]
     },
     "execution_count": 6,
     "metadata": {},
     "output_type": "execute_result"
    }
   ],
   "source": [
    "## Get columns\n",
    "pitches.columns"
   ]
  },
  {
   "cell_type": "code",
   "execution_count": 7,
   "metadata": {},
   "outputs": [
    {
     "data": {
      "text/plain": [
       "(2867154, 40)"
      ]
     },
     "execution_count": 7,
     "metadata": {},
     "output_type": "execute_result"
    }
   ],
   "source": [
    "pitches.shape"
   ]
  },
  {
   "cell_type": "code",
   "execution_count": 8,
   "metadata": {
    "scrolled": false
   },
   "outputs": [
    {
     "data": {
      "text/html": [
       "<div>\n",
       "<style scoped>\n",
       "    .dataframe tbody tr th:only-of-type {\n",
       "        vertical-align: middle;\n",
       "    }\n",
       "\n",
       "    .dataframe tbody tr th {\n",
       "        vertical-align: top;\n",
       "    }\n",
       "\n",
       "    .dataframe thead th {\n",
       "        text-align: right;\n",
       "    }\n",
       "</style>\n",
       "<table border=\"1\" class=\"dataframe\">\n",
       "  <thead>\n",
       "    <tr style=\"text-align: right;\">\n",
       "      <th></th>\n",
       "      <th>ab_id</th>\n",
       "      <th>batter_id</th>\n",
       "      <th>event</th>\n",
       "      <th>g_id</th>\n",
       "      <th>inning</th>\n",
       "      <th>o</th>\n",
       "      <th>p_score</th>\n",
       "      <th>p_throws</th>\n",
       "      <th>pitcher_id</th>\n",
       "      <th>stand</th>\n",
       "      <th>top</th>\n",
       "    </tr>\n",
       "  </thead>\n",
       "  <tbody>\n",
       "    <tr>\n",
       "      <th>0</th>\n",
       "      <td>2015000001</td>\n",
       "      <td>572761</td>\n",
       "      <td>Groundout</td>\n",
       "      <td>201500001</td>\n",
       "      <td>1</td>\n",
       "      <td>1</td>\n",
       "      <td>0</td>\n",
       "      <td>L</td>\n",
       "      <td>452657</td>\n",
       "      <td>L</td>\n",
       "      <td>True</td>\n",
       "    </tr>\n",
       "    <tr>\n",
       "      <th>1</th>\n",
       "      <td>2015000002</td>\n",
       "      <td>518792</td>\n",
       "      <td>Double</td>\n",
       "      <td>201500001</td>\n",
       "      <td>1</td>\n",
       "      <td>1</td>\n",
       "      <td>0</td>\n",
       "      <td>L</td>\n",
       "      <td>452657</td>\n",
       "      <td>L</td>\n",
       "      <td>True</td>\n",
       "    </tr>\n",
       "    <tr>\n",
       "      <th>2</th>\n",
       "      <td>2015000003</td>\n",
       "      <td>407812</td>\n",
       "      <td>Single</td>\n",
       "      <td>201500001</td>\n",
       "      <td>1</td>\n",
       "      <td>1</td>\n",
       "      <td>0</td>\n",
       "      <td>L</td>\n",
       "      <td>452657</td>\n",
       "      <td>R</td>\n",
       "      <td>True</td>\n",
       "    </tr>\n",
       "    <tr>\n",
       "      <th>3</th>\n",
       "      <td>2015000004</td>\n",
       "      <td>425509</td>\n",
       "      <td>Strikeout</td>\n",
       "      <td>201500001</td>\n",
       "      <td>1</td>\n",
       "      <td>2</td>\n",
       "      <td>0</td>\n",
       "      <td>L</td>\n",
       "      <td>452657</td>\n",
       "      <td>R</td>\n",
       "      <td>True</td>\n",
       "    </tr>\n",
       "    <tr>\n",
       "      <th>4</th>\n",
       "      <td>2015000005</td>\n",
       "      <td>571431</td>\n",
       "      <td>Strikeout</td>\n",
       "      <td>201500001</td>\n",
       "      <td>1</td>\n",
       "      <td>3</td>\n",
       "      <td>0</td>\n",
       "      <td>L</td>\n",
       "      <td>452657</td>\n",
       "      <td>L</td>\n",
       "      <td>True</td>\n",
       "    </tr>\n",
       "  </tbody>\n",
       "</table>\n",
       "</div>"
      ],
      "text/plain": [
       "        ab_id  batter_id      event       g_id  inning  o  p_score p_throws  \\\n",
       "0  2015000001     572761  Groundout  201500001       1  1        0        L   \n",
       "1  2015000002     518792     Double  201500001       1  1        0        L   \n",
       "2  2015000003     407812     Single  201500001       1  1        0        L   \n",
       "3  2015000004     425509  Strikeout  201500001       1  2        0        L   \n",
       "4  2015000005     571431  Strikeout  201500001       1  3        0        L   \n",
       "\n",
       "   pitcher_id stand   top  \n",
       "0      452657     L  True  \n",
       "1      452657     L  True  \n",
       "2      452657     R  True  \n",
       "3      452657     R  True  \n",
       "4      452657     L  True  "
      ]
     },
     "execution_count": 8,
     "metadata": {},
     "output_type": "execute_result"
    }
   ],
   "source": [
    "atbats.head()"
   ]
  },
  {
   "cell_type": "code",
   "execution_count": 9,
   "metadata": {},
   "outputs": [
    {
     "data": {
      "text/plain": [
       "(740389, 11)"
      ]
     },
     "execution_count": 9,
     "metadata": {},
     "output_type": "execute_result"
    }
   ],
   "source": [
    "atbats.shape"
   ]
  },
  {
   "cell_type": "code",
   "execution_count": 10,
   "metadata": {},
   "outputs": [],
   "source": [
    "pitches = pitches.dropna() ## Drops any empty values"
   ]
  },
  {
   "cell_type": "code",
   "execution_count": 11,
   "metadata": {
    "scrolled": true
   },
   "outputs": [
    {
     "data": {
      "text/html": [
       "<div>\n",
       "<style scoped>\n",
       "    .dataframe tbody tr th:only-of-type {\n",
       "        vertical-align: middle;\n",
       "    }\n",
       "\n",
       "    .dataframe tbody tr th {\n",
       "        vertical-align: top;\n",
       "    }\n",
       "\n",
       "    .dataframe thead th {\n",
       "        text-align: right;\n",
       "    }\n",
       "</style>\n",
       "<table border=\"1\" class=\"dataframe\">\n",
       "  <thead>\n",
       "    <tr style=\"text-align: right;\">\n",
       "      <th></th>\n",
       "      <th>px</th>\n",
       "      <th>pz</th>\n",
       "      <th>start_speed</th>\n",
       "      <th>end_speed</th>\n",
       "      <th>spin_rate</th>\n",
       "      <th>spin_dir</th>\n",
       "      <th>break_angle</th>\n",
       "      <th>break_length</th>\n",
       "      <th>break_y</th>\n",
       "      <th>ax</th>\n",
       "      <th>...</th>\n",
       "      <th>event_num</th>\n",
       "      <th>b_score</th>\n",
       "      <th>ab_id</th>\n",
       "      <th>b_count</th>\n",
       "      <th>s_count</th>\n",
       "      <th>outs</th>\n",
       "      <th>pitch_num</th>\n",
       "      <th>on_1b</th>\n",
       "      <th>on_2b</th>\n",
       "      <th>on_3b</th>\n",
       "    </tr>\n",
       "  </thead>\n",
       "  <tbody>\n",
       "    <tr>\n",
       "      <th>count</th>\n",
       "      <td>2.847250e+06</td>\n",
       "      <td>2.847250e+06</td>\n",
       "      <td>2.847250e+06</td>\n",
       "      <td>2.847250e+06</td>\n",
       "      <td>2.847250e+06</td>\n",
       "      <td>2.847250e+06</td>\n",
       "      <td>2.847250e+06</td>\n",
       "      <td>2.847250e+06</td>\n",
       "      <td>2.847250e+06</td>\n",
       "      <td>2.847250e+06</td>\n",
       "      <td>...</td>\n",
       "      <td>2.847250e+06</td>\n",
       "      <td>2.847250e+06</td>\n",
       "      <td>2.847250e+06</td>\n",
       "      <td>2.847250e+06</td>\n",
       "      <td>2.847250e+06</td>\n",
       "      <td>2.847250e+06</td>\n",
       "      <td>2.847250e+06</td>\n",
       "      <td>2.847250e+06</td>\n",
       "      <td>2.847250e+06</td>\n",
       "      <td>2.847250e+06</td>\n",
       "    </tr>\n",
       "    <tr>\n",
       "      <th>mean</th>\n",
       "      <td>6.643277e-03</td>\n",
       "      <td>2.254971e+00</td>\n",
       "      <td>8.838152e+01</td>\n",
       "      <td>8.136265e+01</td>\n",
       "      <td>1.731086e+03</td>\n",
       "      <td>1.802457e+02</td>\n",
       "      <td>5.862024e+00</td>\n",
       "      <td>6.601393e+00</td>\n",
       "      <td>2.381687e+01</td>\n",
       "      <td>-2.314437e+00</td>\n",
       "      <td>...</td>\n",
       "      <td>3.126966e+02</td>\n",
       "      <td>2.254690e+00</td>\n",
       "      <td>2.016605e+09</td>\n",
       "      <td>8.807361e-01</td>\n",
       "      <td>8.830977e-01</td>\n",
       "      <td>9.812180e-01</td>\n",
       "      <td>2.895050e+00</td>\n",
       "      <td>3.025217e-01</td>\n",
       "      <td>1.845721e-01</td>\n",
       "      <td>9.488032e-02</td>\n",
       "    </tr>\n",
       "    <tr>\n",
       "      <th>std</th>\n",
       "      <td>8.927168e-01</td>\n",
       "      <td>9.464012e-01</td>\n",
       "      <td>6.015354e+00</td>\n",
       "      <td>5.363923e+00</td>\n",
       "      <td>6.827929e+02</td>\n",
       "      <td>6.742597e+01</td>\n",
       "      <td>2.443174e+01</td>\n",
       "      <td>1.333043e+02</td>\n",
       "      <td>6.445706e-02</td>\n",
       "      <td>1.073814e+01</td>\n",
       "      <td>...</td>\n",
       "      <td>1.927248e+02</td>\n",
       "      <td>2.550695e+00</td>\n",
       "      <td>1.116511e+06</td>\n",
       "      <td>9.654741e-01</td>\n",
       "      <td>8.250264e-01</td>\n",
       "      <td>8.174910e-01</td>\n",
       "      <td>1.727632e+00</td>\n",
       "      <td>4.593500e-01</td>\n",
       "      <td>3.879501e-01</td>\n",
       "      <td>2.930496e-01</td>\n",
       "    </tr>\n",
       "    <tr>\n",
       "      <th>min</th>\n",
       "      <td>-1.054333e+01</td>\n",
       "      <td>-5.183664e+00</td>\n",
       "      <td>3.390000e+01</td>\n",
       "      <td>3.240000e+01</td>\n",
       "      <td>1.214000e+00</td>\n",
       "      <td>-2.000000e-03</td>\n",
       "      <td>-9.000000e+01</td>\n",
       "      <td>1.000000e-01</td>\n",
       "      <td>2.330000e+01</td>\n",
       "      <td>-5.929009e+01</td>\n",
       "      <td>...</td>\n",
       "      <td>3.000000e+00</td>\n",
       "      <td>0.000000e+00</td>\n",
       "      <td>2.015000e+09</td>\n",
       "      <td>0.000000e+00</td>\n",
       "      <td>0.000000e+00</td>\n",
       "      <td>0.000000e+00</td>\n",
       "      <td>1.000000e+00</td>\n",
       "      <td>0.000000e+00</td>\n",
       "      <td>0.000000e+00</td>\n",
       "      <td>0.000000e+00</td>\n",
       "    </tr>\n",
       "    <tr>\n",
       "      <th>25%</th>\n",
       "      <td>-5.906339e-01</td>\n",
       "      <td>1.650000e+00</td>\n",
       "      <td>8.430000e+01</td>\n",
       "      <td>7.790000e+01</td>\n",
       "      <td>1.238646e+03</td>\n",
       "      <td>1.371860e+02</td>\n",
       "      <td>-1.190000e+01</td>\n",
       "      <td>4.300000e+00</td>\n",
       "      <td>2.380000e+01</td>\n",
       "      <td>-1.129300e+01</td>\n",
       "      <td>...</td>\n",
       "      <td>1.490000e+02</td>\n",
       "      <td>0.000000e+00</td>\n",
       "      <td>2.016004e+09</td>\n",
       "      <td>0.000000e+00</td>\n",
       "      <td>0.000000e+00</td>\n",
       "      <td>0.000000e+00</td>\n",
       "      <td>1.000000e+00</td>\n",
       "      <td>0.000000e+00</td>\n",
       "      <td>0.000000e+00</td>\n",
       "      <td>0.000000e+00</td>\n",
       "    </tr>\n",
       "    <tr>\n",
       "      <th>50%</th>\n",
       "      <td>1.300000e-02</td>\n",
       "      <td>2.259003e+00</td>\n",
       "      <td>8.970000e+01</td>\n",
       "      <td>8.250000e+01</td>\n",
       "      <td>1.866259e+03</td>\n",
       "      <td>1.959150e+02</td>\n",
       "      <td>6.800000e+00</td>\n",
       "      <td>6.000000e+00</td>\n",
       "      <td>2.380000e+01</td>\n",
       "      <td>-3.150000e+00</td>\n",
       "      <td>...</td>\n",
       "      <td>3.020000e+02</td>\n",
       "      <td>1.000000e+00</td>\n",
       "      <td>2.017004e+09</td>\n",
       "      <td>1.000000e+00</td>\n",
       "      <td>1.000000e+00</td>\n",
       "      <td>1.000000e+00</td>\n",
       "      <td>3.000000e+00</td>\n",
       "      <td>0.000000e+00</td>\n",
       "      <td>0.000000e+00</td>\n",
       "      <td>0.000000e+00</td>\n",
       "    </tr>\n",
       "    <tr>\n",
       "      <th>75%</th>\n",
       "      <td>6.090000e-01</td>\n",
       "      <td>2.863000e+00</td>\n",
       "      <td>9.300000e+01</td>\n",
       "      <td>8.540000e+01</td>\n",
       "      <td>2.247466e+03</td>\n",
       "      <td>2.252380e+02</td>\n",
       "      <td>2.710000e+01</td>\n",
       "      <td>8.000000e+00</td>\n",
       "      <td>2.390000e+01</td>\n",
       "      <td>5.986000e+00</td>\n",
       "      <td>...</td>\n",
       "      <td>4.640000e+02</td>\n",
       "      <td>3.000000e+00</td>\n",
       "      <td>2.018002e+09</td>\n",
       "      <td>2.000000e+00</td>\n",
       "      <td>2.000000e+00</td>\n",
       "      <td>2.000000e+00</td>\n",
       "      <td>4.000000e+00</td>\n",
       "      <td>1.000000e+00</td>\n",
       "      <td>0.000000e+00</td>\n",
       "      <td>0.000000e+00</td>\n",
       "    </tr>\n",
       "    <tr>\n",
       "      <th>max</th>\n",
       "      <td>1.295291e+01</td>\n",
       "      <td>1.488624e+01</td>\n",
       "      <td>1.050000e+02</td>\n",
       "      <td>9.690000e+01</td>\n",
       "      <td>6.539259e+03</td>\n",
       "      <td>3.600010e+02</td>\n",
       "      <td>2.694000e+02</td>\n",
       "      <td>2.248893e+05</td>\n",
       "      <td>3.640000e+01</td>\n",
       "      <td>4.097800e+01</td>\n",
       "      <td>...</td>\n",
       "      <td>1.336000e+03</td>\n",
       "      <td>2.500000e+01</td>\n",
       "      <td>2.018186e+09</td>\n",
       "      <td>4.000000e+00</td>\n",
       "      <td>2.000000e+00</td>\n",
       "      <td>2.000000e+00</td>\n",
       "      <td>2.100000e+01</td>\n",
       "      <td>1.000000e+00</td>\n",
       "      <td>1.000000e+00</td>\n",
       "      <td>1.000000e+00</td>\n",
       "    </tr>\n",
       "  </tbody>\n",
       "</table>\n",
       "<p>8 rows × 37 columns</p>\n",
       "</div>"
      ],
      "text/plain": [
       "                 px            pz   start_speed     end_speed     spin_rate  \\\n",
       "count  2.847250e+06  2.847250e+06  2.847250e+06  2.847250e+06  2.847250e+06   \n",
       "mean   6.643277e-03  2.254971e+00  8.838152e+01  8.136265e+01  1.731086e+03   \n",
       "std    8.927168e-01  9.464012e-01  6.015354e+00  5.363923e+00  6.827929e+02   \n",
       "min   -1.054333e+01 -5.183664e+00  3.390000e+01  3.240000e+01  1.214000e+00   \n",
       "25%   -5.906339e-01  1.650000e+00  8.430000e+01  7.790000e+01  1.238646e+03   \n",
       "50%    1.300000e-02  2.259003e+00  8.970000e+01  8.250000e+01  1.866259e+03   \n",
       "75%    6.090000e-01  2.863000e+00  9.300000e+01  8.540000e+01  2.247466e+03   \n",
       "max    1.295291e+01  1.488624e+01  1.050000e+02  9.690000e+01  6.539259e+03   \n",
       "\n",
       "           spin_dir   break_angle  break_length       break_y            ax  \\\n",
       "count  2.847250e+06  2.847250e+06  2.847250e+06  2.847250e+06  2.847250e+06   \n",
       "mean   1.802457e+02  5.862024e+00  6.601393e+00  2.381687e+01 -2.314437e+00   \n",
       "std    6.742597e+01  2.443174e+01  1.333043e+02  6.445706e-02  1.073814e+01   \n",
       "min   -2.000000e-03 -9.000000e+01  1.000000e-01  2.330000e+01 -5.929009e+01   \n",
       "25%    1.371860e+02 -1.190000e+01  4.300000e+00  2.380000e+01 -1.129300e+01   \n",
       "50%    1.959150e+02  6.800000e+00  6.000000e+00  2.380000e+01 -3.150000e+00   \n",
       "75%    2.252380e+02  2.710000e+01  8.000000e+00  2.390000e+01  5.986000e+00   \n",
       "max    3.600010e+02  2.694000e+02  2.248893e+05  3.640000e+01  4.097800e+01   \n",
       "\n",
       "       ...     event_num       b_score         ab_id       b_count  \\\n",
       "count  ...  2.847250e+06  2.847250e+06  2.847250e+06  2.847250e+06   \n",
       "mean   ...  3.126966e+02  2.254690e+00  2.016605e+09  8.807361e-01   \n",
       "std    ...  1.927248e+02  2.550695e+00  1.116511e+06  9.654741e-01   \n",
       "min    ...  3.000000e+00  0.000000e+00  2.015000e+09  0.000000e+00   \n",
       "25%    ...  1.490000e+02  0.000000e+00  2.016004e+09  0.000000e+00   \n",
       "50%    ...  3.020000e+02  1.000000e+00  2.017004e+09  1.000000e+00   \n",
       "75%    ...  4.640000e+02  3.000000e+00  2.018002e+09  2.000000e+00   \n",
       "max    ...  1.336000e+03  2.500000e+01  2.018186e+09  4.000000e+00   \n",
       "\n",
       "            s_count          outs     pitch_num         on_1b         on_2b  \\\n",
       "count  2.847250e+06  2.847250e+06  2.847250e+06  2.847250e+06  2.847250e+06   \n",
       "mean   8.830977e-01  9.812180e-01  2.895050e+00  3.025217e-01  1.845721e-01   \n",
       "std    8.250264e-01  8.174910e-01  1.727632e+00  4.593500e-01  3.879501e-01   \n",
       "min    0.000000e+00  0.000000e+00  1.000000e+00  0.000000e+00  0.000000e+00   \n",
       "25%    0.000000e+00  0.000000e+00  1.000000e+00  0.000000e+00  0.000000e+00   \n",
       "50%    1.000000e+00  1.000000e+00  3.000000e+00  0.000000e+00  0.000000e+00   \n",
       "75%    2.000000e+00  2.000000e+00  4.000000e+00  1.000000e+00  0.000000e+00   \n",
       "max    2.000000e+00  2.000000e+00  2.100000e+01  1.000000e+00  1.000000e+00   \n",
       "\n",
       "              on_3b  \n",
       "count  2.847250e+06  \n",
       "mean   9.488032e-02  \n",
       "std    2.930496e-01  \n",
       "min    0.000000e+00  \n",
       "25%    0.000000e+00  \n",
       "50%    0.000000e+00  \n",
       "75%    0.000000e+00  \n",
       "max    1.000000e+00  \n",
       "\n",
       "[8 rows x 37 columns]"
      ]
     },
     "execution_count": 11,
     "metadata": {},
     "output_type": "execute_result"
    }
   ],
   "source": [
    "pitches.describe()"
   ]
  },
  {
   "cell_type": "markdown",
   "metadata": {},
   "source": [
    "We can also look at some data and see how some of these are distributed."
   ]
  },
  {
   "cell_type": "code",
   "execution_count": 12,
   "metadata": {},
   "outputs": [
    {
     "data": {
      "image/png": "[encoded data removed]",
      "text/plain": [
       "<Figure size 504x504 with 4 Axes>"
      ]
     },
     "metadata": {},
     "output_type": "display_data"
    }
   ],
   "source": [
    "sns.set()\n",
    "fig, ax = plt.subplots(2,2, figsize = (7,7))\n",
    "ax[0,0].hist(pitches.sample(1000)['start_speed'], bins = 25)\n",
    "ax[0,0].set_title('Start Speed')\n",
    "ax[0,0].set_xlabel('Speed, mph')\n",
    "ax[0,0].set_ylabel('Frequency')\n",
    "ax[0,1].hist(pitches.sample(1000)['spin_rate'], bins = 25, color = 'tomato')\n",
    "ax[0,1].set_title('Spin Rate')\n",
    "ax[0,1].set_xlabel('Spin Rate, rpm')\n",
    "ax[0,1].set_ylabel('Frequency')\n",
    "ax[1,0].hist(pitches.sample(1000)['spin_dir'], bins = 25, color = 'crimson')\n",
    "ax[1,0].set_title('Spin Direction')\n",
    "ax[1,0].set_xlabel('Spin Direction, degrees from bottom')\n",
    "ax[1,0].set_ylabel('Frequency')\n",
    "ax[1,1].hist(pitches.sample(1000)['break_length'], bins = 25, color = 'seagreen')\n",
    "ax[1,1].set_title('Break Length')\n",
    "ax[1,1].set_xlabel('Length, inches')\n",
    "ax[1,1].set_ylabel('Frequency')\n",
    "\n",
    "\n",
    "\n",
    "plt.tight_layout()"
   ]
  },
  {
   "cell_type": "markdown",
   "metadata": {},
   "source": [
    "***\n",
    "<a class=\"anchor\" id=\"Classifying1\"></a>\n",
    "## 2.2 Classifying Pitches with Sci-kit Learn"
   ]
  },
  {
   "cell_type": "markdown",
   "metadata": {},
   "source": [
    "**Note:** A few resources are important to mention here. This is my first project using the Random Forest Classification module from scikit-learn, and this article by Usman Malik was phenomenally helpful in setting everything up:\n",
    ">https://stackabuse.com/random-forest-algorithm-with-python-and-scikit-learn/\n",
    "\n",
    "And, of course, the scikit-learn documentation was also very helpful, along with Google's Machine Learning Crash Course:\n",
    "\n",
    ">https://scikit-learn.org/stable/documentation.html\n",
    "\n",
    ">https://developers.google.com/machine-learning/crash-course"
   ]
  },
  {
   "cell_type": "markdown",
   "metadata": {},
   "source": [
    "***\n",
    "### Creating a Guesser\n",
    "First, let's create a baseline to compare our classifier to. This function essentially takes data, calculates the frequency of each pitch, and will then randomly guess pitches based on how often they appear. "
   ]
  },
  {
   "cell_type": "code",
   "execution_count": 13,
   "metadata": {},
   "outputs": [],
   "source": [
    "from numpy.random import choice"
   ]
  },
  {
   "cell_type": "code",
   "execution_count": 14,
   "metadata": {},
   "outputs": [],
   "source": [
    "def guesser(data):\n",
    "    ## Calculates the relative frequency as percent of total\n",
    "    ## Stores in dictionary 'percents' in format pitch:percent\n",
    "    freq = data['pitch_type'].value_counts().to_dict() ## Dictionary of pitches and frequency\n",
    "    total = data.shape[0]\n",
    "    percents = {}\n",
    "    for key in freq:\n",
    "        occurence = int(freq[key])\n",
    "        per = occurence/total\n",
    "        percents[key] = per\n",
    "\n",
    "    ## Also populate lists with pitches and frequencies\n",
    "    pitches = []\n",
    "    freqs = []\n",
    "    for key in percents:\n",
    "        pitches.append(key)\n",
    "        freqs.append(percents[key])\n",
    "    \n",
    "    ## Now, to guess, lets simply use the choose function from numpy\n",
    "    correct = 0      # These are counters to keep track of correct and incorrect\n",
    "    incorrect = 0\n",
    "    \n",
    "    for pitch in data['pitch_type']:\n",
    "        guess = choice(pitches, p = freqs) # P is where we pass in frequency\n",
    "        \n",
    "        ## Below just guesses four-seam fastball. This is commented out currently.\n",
    "        #guess = choice(['FF']) \n",
    "        \n",
    "        if guess == pitch:\n",
    "            correct += 1\n",
    "        else:\n",
    "            incorrect += 1        \n",
    "    \n",
    "    return correct/total, incorrect/total, percents ## Returns percentages of correct/incorrect and frequency of pitches"
   ]
  },
  {
   "cell_type": "code",
   "execution_count": 18,
   "metadata": {},
   "outputs": [
    {
     "name": "stdout",
     "output_type": "stream",
     "text": [
      "Correct %: 0.1852     Incorrect %: 0.8148\n",
      "{'FF': 0.3551, 'SL': 0.1569, 'FT': 0.121, 'CH': 0.0994, 'SI': 0.0865, 'CU': 0.081, 'FC': 0.0526, 'KC': 0.0258, 'FS': 0.0154, 'KN': 0.004, 'IN': 0.0013, 'FO': 0.0007, 'PO': 0.0001, 'SC': 0.0001, 'EP': 0.0001}\n"
     ]
    }
   ],
   "source": [
    "correct, incorrect, percents = guesser(pitches.sample(10000))\n",
    "print('Correct %:', correct, '    Incorrect %:', incorrect)\n",
    "print(percents) "
   ]
  },
  {
   "cell_type": "markdown",
   "metadata": {},
   "source": [
    "You would actually be more accurate just guessing \"four-seam fastball\" everytime. This is called a Zero Rule algorithm (ZeroR), and is the recommended baseline for a classification problem. Let's set out baseline somewhere around 36% for ZeroR and set the baseline for actually guessing at ~20%. Removing the probability argument from the 'choice' function gives an accuracy of only 5%. "
   ]
  },
  {
   "cell_type": "markdown",
   "metadata": {},
   "source": [
    "***\n",
    "### Random Forest"
   ]
  },
  {
   "attachments": {
    "ggff5544hh.png": {
     "image/png": "[encoded data removed]"
    }
   },
   "cell_type": "markdown",
   "metadata": {},
   "source": [
    "Let's start on the machine learning portion. Two things to start — first, import our libraries (as mentioned, we will use sci-kit learn). Second, using the RandomForestClassifier class, create a simple function that guesses if some coloumn is True or False (1 or 0) based on data that has some influence on that column. It also takes how many trees we want to generate. More trees usually means a more accurate classifier, but computation time is the limiting factor. \n",
    "\n",
    "A random forest classifier will be used to classify pitches. In essence, a random forest is a collection of decision trees that each guess a class, and the class that receives that majority of votes is the chosen class of the forest. Decision trees work by asking if the data meets certain criteria as it moves down the tree, either true or false at each node. \n",
    "\n",
    "<div>\n",
    "<img src=\"attachment:ggff5544hh.png\" width=\"650\"/>\n",
    "</div>\n",
    "<i><font size=\"-1\"><center> Adapted from https://www.globalsoftwaresupport.com/random-forest-classifier/\n",
    "</center></font></i>\n",
    "<br>"
   ]
  },
  {
   "cell_type": "code",
   "execution_count": 19,
   "metadata": {},
   "outputs": [],
   "source": [
    "## Imports sklean modules for machine learning\n",
    "from sklearn.model_selection import train_test_split\n",
    "from sklearn.ensemble import RandomForestClassifier\n",
    "from sklearn.metrics import accuracy_score\n",
    "from sklearn.model_selection import GridSearchCV"
   ]
  },
  {
   "cell_type": "code",
   "execution_count": 20,
   "metadata": {},
   "outputs": [],
   "source": [
    "## This is the main function that will be used to classify pitches\n",
    "## Trains a random forest classifier, returns how accurate it is\n",
    "def predict(xdata, ydata, trees = 5, n_jobs = -1, depth = None, features = 'auto', class_weight = None):\n",
    "    ## Splits into train and test data\n",
    "    X_train, X_test, y_train, y_test = train_test_split(xdata, ydata, test_size=0.2, random_state=0)\n",
    "    \n",
    "    ## initializes our classifier\n",
    "    classify = RandomForestClassifier(n_estimators=trees, random_state=0, max_depth = depth, \n",
    "                                      max_features = 'auto', class_weight = class_weight)\n",
    "    classify.fit(X_train, y_train) ## Trains it \n",
    "    y_pred = classify.predict(X_test) ## Predicts y's from test X data\n",
    "    return accuracy_score(y_test, y_pred) ## Returns how many guesses are correct"
   ]
  },
  {
   "cell_type": "markdown",
   "metadata": {},
   "source": [
    "**But, some important things first:**\n",
    "\n",
    "First, let's add handedness of the pitcher to the \"pitches\" dataframe. This might be very important. Handedness affects which way pitches both spin and break; a left-handed pitcher's curveball will break into a right-handed batter, and vice versa. However, this data only exists in the \"atbats\" dataframe. To move this data over, we create a large dictionary that has every atbat ID and the handedness of that pitcher; we then match this to the atbat ID's of the pitches dataframe. "
   ]
  },
  {
   "cell_type": "code",
   "execution_count": 21,
   "metadata": {},
   "outputs": [],
   "source": [
    "## Creates a dictionary using the ID and the handedness of a pitcher\n",
    "mydict = dict(zip(atbats['ab_id'], atbats['p_throws']))\n",
    "\n",
    "## With help from https://stackoverflow.com/questions/18695605/python-pandas-dataframe-to-dictionary\n",
    "## User 'praful gupta', licensed under CC BY_SA 3.0\n",
    "## https://stackoverflow.com/users/6096272/praful-gupta"
   ]
  },
  {
   "cell_type": "code",
   "execution_count": 22,
   "metadata": {},
   "outputs": [],
   "source": [
    "## Maps either R or L from the dictionary, then re-maps R to 1 and L to 0 \n",
    "## so that our classifier can use the data. \n",
    "pitches['handedness'] = pitches['ab_id'].map(mydict) \n",
    "pitches['handedness'] = pitches['handedness'].map({'R': 1, 'L': 0})\n",
    "\n",
    "## With help from https://stackoverflow.com/questions/25570147/add-new-column-based-on-boolean-values-in-a-different-column\n",
    "## User \"EdChum - Reinstate Monica\", licensed under CC BY_SA 3.0\n",
    "## https://stackoverflow.com/users/704848/edchum-reinstate-monica"
   ]
  },
  {
   "cell_type": "markdown",
   "metadata": {},
   "source": [
    "**And,** let's create a True/False column for every possible pitch. This will be the ydata we feed to the function so it has something to guess. Furthermore, let's drop rare pitches, especially ones that can be hard to distinguish, like pitchouts."
   ]
  },
  {
   "cell_type": "code",
   "execution_count": 23,
   "metadata": {},
   "outputs": [],
   "source": [
    "pitch_types = pitches['pitch_type'].unique()\n",
    "for pitch in pitch_types:\n",
    "    pitches[pitch] = (pitches['pitch_type'] == pitch).astype(int)"
   ]
  },
  {
   "cell_type": "code",
   "execution_count": 24,
   "metadata": {},
   "outputs": [],
   "source": [
    "# Dropping rare pitches\n",
    "rare_pitches = ['EP', 'FO', 'PO', \"SC\", 'UN', 'AB', \"FA\", \"IN\"]\n",
    "pitches_common = pitches.copy()\n",
    "\n",
    "for pitch in rare_pitches:\n",
    "    pitches_common = pitches_common.drop(columns = pitch)\n",
    "    pitches_common = pitches_common[pitches_common['pitch_type'] != pitch]"
   ]
  },
  {
   "cell_type": "code",
   "execution_count": 25,
   "metadata": {},
   "outputs": [],
   "source": [
    "righthanded = pitches[pitches['handedness'] == 1] ## Only Right-handed pitches"
   ]
  },
  {
   "cell_type": "markdown",
   "metadata": {},
   "source": [
    "***\n",
    "### Feature Selection\n",
    "To have our algorithm perform the best it can, we need to figure out quantities that actually distinguish pitches. If we give the classifier a bunch of 'xdata' that actually doesn't matter, the algorithm will perform worse, or simply just be less time efficient. We need to single out high-quality correlations.\n",
    "\n",
    "Sci-kit Learn has methods to do just this, but instead will we take a simpler approach: visualization."
   ]
  },
  {
   "cell_type": "code",
   "execution_count": 26,
   "metadata": {},
   "outputs": [
    {
     "data": {
      "image/png": "[encoded data removed]",
      "text/plain": [
       "<Figure size 936x936 with 4 Axes>"
      ]
     },
     "metadata": {},
     "output_type": "display_data"
    },
    {
     "data": {
      "text/plain": [
       "<Figure size 432x288 with 0 Axes>"
      ]
     },
     "metadata": {},
     "output_type": "display_data"
    }
   ],
   "source": [
    "fig, ax = plt.subplots(2,2, figsize = (13,13))\n",
    "\n",
    "value = 'spin_rate'\n",
    "ax[0,0].boxplot([pitches_common[pitches_common['CU'] == 1][value], \n",
    "             pitches_common[pitches_common['KC'] == 1][value],\n",
    "             pitches_common[pitches_common['FF'] == 1][value],\n",
    "             pitches_common[pitches_common['CH'] == 1][value],\n",
    "             pitches_common[pitches_common['FT'] == 1][value],\n",
    "             pitches_common[pitches_common['SL'] == 1][value],\n",
    "             pitches_common[pitches_common['SI'] == 1][value]],\n",
    "           labels = ['CU', 'KC', 'FF', 'CH', 'FT', 'SL', 'SI'])\n",
    "ax[0,0].set_ylim(0,4000)\n",
    "\n",
    "value = 'start_speed'\n",
    "ax[0,1].boxplot([pitches_common[pitches_common['CU'] == 1][value], \n",
    "             pitches_common[pitches_common['KC'] == 1][value],\n",
    "             pitches_common[pitches_common['FF'] == 1][value],\n",
    "             pitches_common[pitches_common['CH'] == 1][value],\n",
    "             pitches_common[pitches_common['FT'] == 1][value],\n",
    "             pitches_common[pitches_common['SL'] == 1][value],\n",
    "             pitches_common[pitches_common['SI'] == 1][value]],\n",
    "           labels = ['CU', 'KC', 'FF', 'CH', 'FT', 'SL', 'SI'])\n",
    "ax[0,1].set_ylim(60,105)\n",
    "plt.savefig('ex.png', dpi = 300)\n",
    "\n",
    "value = 'break_length'\n",
    "ax[1,0].boxplot([pitches_common[pitches_common['CU'] == 1][value], \n",
    "             pitches_common[pitches_common['KC'] == 1][value],\n",
    "             pitches_common[pitches_common['FF'] == 1][value],\n",
    "             pitches_common[pitches_common['CH'] == 1][value],\n",
    "             pitches_common[pitches_common['FT'] == 1][value],\n",
    "             pitches_common[pitches_common['SL'] == 1][value],\n",
    "             pitches_common[pitches_common['SI'] == 1][value]],\n",
    "           labels = ['CU', 'KC', 'FF', 'CH', 'FT', 'SL', 'SI'])\n",
    "ax[1,0].set_ylim(0,20)\n",
    "\n",
    "value = 'pz'\n",
    "ax[1,1].boxplot([pitches_common[pitches_common['CU'] == 1][value], \n",
    "             pitches_common[pitches_common['KC'] == 1][value],\n",
    "             pitches_common[pitches_common['FF'] == 1][value],\n",
    "             pitches_common[pitches_common['CH'] == 1][value],\n",
    "             pitches_common[pitches_common['FT'] == 1][value],\n",
    "             pitches_common[pitches_common['SL'] == 1][value],\n",
    "             pitches_common[pitches_common['SI'] == 1][value]],\n",
    "           labels = ['CU', 'KC', 'FF', 'CH', 'FT', 'SL', 'SI'])\n",
    "ax[1,1].set_ylim(-5,10)\n",
    "\n",
    "\n",
    "plt.show()\n",
    "plt.tight_layout()"
   ]
  },
  {
   "cell_type": "code",
   "execution_count": 27,
   "metadata": {},
   "outputs": [
    {
     "data": {
      "image/png": "[encoded data removed]",
      "text/plain": [
       "<Figure size 936x936 with 4 Axes>"
      ]
     },
     "metadata": {},
     "output_type": "display_data"
    },
    {
     "data": {
      "text/plain": [
       "<Figure size 432x288 with 0 Axes>"
      ]
     },
     "metadata": {},
     "output_type": "display_data"
    }
   ],
   "source": [
    "fig, ax = plt.subplots(2,2, figsize = (13,13))\n",
    "\n",
    "## Note that for spin direction and break angle we single the data to right handers. \n",
    "## This is because a curveball from a right hander will break into a left handed batter, and vice versa. \n",
    "value = 'spin_dir'\n",
    "ax[0,0].boxplot([righthanded[righthanded['CU'] == 1][value], \n",
    "             righthanded[righthanded['KC'] == 1][value],\n",
    "             righthanded[righthanded['FF'] == 1][value],\n",
    "             righthanded[righthanded['CH'] == 1][value],\n",
    "             righthanded[righthanded['FT'] == 1][value],\n",
    "             righthanded[righthanded['SL'] == 1][value],\n",
    "             righthanded[righthanded['SI'] == 1][value]],\n",
    "           labels = ['CU', 'KC', 'FF', 'CH', 'FT', 'SL', 'SI'])\n",
    "ax[0,0].set_ylim()\n",
    "\n",
    "value = 'px'\n",
    "ax[0,1].boxplot([pitches_common[pitches_common['CU'] == 1][value], \n",
    "             pitches_common[pitches_common['KC'] == 1][value],\n",
    "             pitches_common[pitches_common['FF'] == 1][value],\n",
    "             pitches_common[pitches_common['CH'] == 1][value],\n",
    "             pitches_common[pitches_common['FT'] == 1][value],\n",
    "             pitches_common[pitches_common['SL'] == 1][value],\n",
    "             pitches_common[pitches_common['SI'] == 1][value]],\n",
    "           labels = ['CU', 'KC', 'FF', 'CH', 'FT', 'SL', 'SI'])\n",
    "ax[0,1].set_ylim(-5,5)\n",
    "\n",
    "value = 'break_angle'\n",
    "ax[1,0].boxplot([righthanded[righthanded['CU'] == 1][value], \n",
    "             righthanded[righthanded['KC'] == 1][value],\n",
    "             righthanded[righthanded['FF'] == 1][value],\n",
    "             righthanded[righthanded['CH'] == 1][value],\n",
    "             righthanded[righthanded['FT'] == 1][value],\n",
    "             righthanded[righthanded['SL'] == 1][value],\n",
    "             righthanded[righthanded['SI'] == 1][value]],\n",
    "           labels = ['CU', 'KC', 'FF', 'CH', 'FT', 'SL', 'SI'])\n",
    "ax[1,0].set_ylim(-100, 150)\n",
    "\n",
    "value = 'vx0'\n",
    "ax[1,1].boxplot([pitches_common[pitches_common['CU'] == 1][value], \n",
    "             pitches_common[pitches_common['KC'] == 1][value],\n",
    "             pitches_common[pitches_common['FF'] == 1][value],\n",
    "             pitches_common[pitches_common['CH'] == 1][value],\n",
    "             pitches_common[pitches_common['FT'] == 1][value],\n",
    "             pitches_common[pitches_common['SL'] == 1][value],\n",
    "             pitches_common[pitches_common['SI'] == 1][value]],\n",
    "           labels = ['CU', 'KC', 'FF', 'CH', 'FT', 'SL', 'SI'])\n",
    "ax[1,1].set_ylim()\n",
    "\n",
    "\n",
    "plt.show()\n",
    "plt.tight_layout()"
   ]
  },
  {
   "cell_type": "markdown",
   "metadata": {},
   "source": [
    "It appears that everything is a pretty good indicator, except for three: position over plate (px), vx0, and pz. Spin rate seems to mostly classify breaking balls from other pitches. \n",
    "\n",
    "Notice something that may throw off our algorithm: Curveballs (CU) and Knucklecurves (KC) have very similar characteristics, perhaps because they are just a variation of the same pitch (indeed, only the index finger position is different). Likewise for the sinker and the 2-seam fastball. I wonder why the data splits these up. To account for this, we will combine these pitches together when doing multi-class classification. "
   ]
  },
  {
   "cell_type": "markdown",
   "metadata": {},
   "source": [
    "***\n",
    "### Testing the Algorithm\n",
    "Now let's see how the classifier performs for a few individual pitches:"
   ]
  },
  {
   "cell_type": "code",
   "execution_count": 29,
   "metadata": {},
   "outputs": [
    {
     "name": "stdout",
     "output_type": "stream",
     "text": [
      "Guessed fastball correctly 89.33 percent of the time.\n"
     ]
    }
   ],
   "source": [
    "train_columns = ['start_speed', 'spin_rate', 'spin_dir', 'break_angle', 'break_length', 'handedness']\n",
    "correct_percent = predict(pitches[train_columns], pitches['FF'])\n",
    "print('Guessed fastball correctly', round(correct_percent*100, 2), 'percent of the time.')"
   ]
  },
  {
   "cell_type": "code",
   "execution_count": 30,
   "metadata": {},
   "outputs": [
    {
     "name": "stdout",
     "output_type": "stream",
     "text": [
      "Guessed changeup correctly 94.87 percent of the time.\n"
     ]
    }
   ],
   "source": [
    "train_columns = ['start_speed', 'spin_rate', 'spin_dir', 'break_angle', 'break_length', 'handedness']\n",
    "correct_percent = predict(pitches[train_columns], pitches['CH'])\n",
    "print('Guessed changeup correctly', round(correct_percent*100, 2), 'percent of the time.')"
   ]
  },
  {
   "cell_type": "code",
   "execution_count": 122,
   "metadata": {},
   "outputs": [
    {
     "name": "stdout",
     "output_type": "stream",
     "text": [
      "Guessed slider correctly 91.77 percent of the time.\n"
     ]
    }
   ],
   "source": [
    "train_columns = ['start_speed', 'spin_rate', 'spin_dir', 'break_angle', 'break_length', 'handedness']\n",
    "correct_percent = predict(pitches[train_columns], pitches['SL'])\n",
    "print('Guessed slider correctly', round(correct_percent*100, 2), 'percent of the time.')"
   ]
  },
  {
   "cell_type": "code",
   "execution_count": 123,
   "metadata": {},
   "outputs": [
    {
     "name": "stdout",
     "output_type": "stream",
     "text": [
      "Guessed curveball correctly 95.12 percent of the time.\n"
     ]
    }
   ],
   "source": [
    "train_columns = ['start_speed', 'spin_rate', 'spin_dir', 'break_angle', 'break_length', 'handedness']\n",
    "correct_percent = predict(pitches[train_columns], pitches['CU'])\n",
    "print('Guessed curveball correctly', round(correct_percent*100, 2), 'percent of the time.')"
   ]
  },
  {
   "cell_type": "markdown",
   "metadata": {},
   "source": [
    "<a class=\"anchor\" id=\"Classifying2\"></a>\n",
    "***\n",
    "## 2.3 Multi-class Classification\n",
    "We can greatly improve on this method: instead of just asking our algorithm if a given pitch is pitch 'x', what if we fed it a pitch and made it choose which pitch it was? We will acomplish this by altering our classifier to make it multi-class. We will start by assigning all of the pitches to a numerical identifier, similar to how we previously assigned True/False to 1 or 0 for each pitch."
   ]
  },
  {
   "cell_type": "code",
   "execution_count": 32,
   "metadata": {},
   "outputs": [],
   "source": [
    "## For multi-class classification, we map a new column to numerical representations of pitches\n",
    "## Lets combine similar pitches, so note that 'KC' and 'CH' are both assigned to 0, likewise for 'FT' and 'SI'\n",
    "mapping = {'CH': 0, 'CU': 1, 'FF': 2, 'FC': 3, 'SI': 4, 'FT': 4, 'SL': 5, 'KC':0, 'FS': 6, 'KN': 7}\n",
    "pitches_combined = pitches_common\n",
    "pitches_combined['pitch_type_numeric'] = pitches_combined['pitch_type'].map(mapping)"
   ]
  },
  {
   "cell_type": "markdown",
   "metadata": {},
   "source": [
    "*** \n",
    "Now its time to test our algorithm. Let's try to guess our combined dataset with 3 trees. The cell returns the percent that the algorithm got correct."
   ]
  },
  {
   "cell_type": "code",
   "execution_count": 33,
   "metadata": {},
   "outputs": [
    {
     "name": "stdout",
     "output_type": "stream",
     "text": [
      "The classifier got 73.0105720012823 % correct.\n"
     ]
    }
   ],
   "source": [
    "train_columns = ['start_speed', 'spin_rate', 'spin_dir', 'break_angle', 'break_length', 'handedness']\n",
    "correct_percent = predict(pitches_combined[train_columns], pitches_combined['pitch_type_numeric'], trees = 3)\n",
    "print('The classifier got', correct_percent*100, '% correct.')"
   ]
  },
  {
   "cell_type": "markdown",
   "metadata": {},
   "source": [
    "***\n",
    "### Hyperparameter Tuning"
   ]
  },
  {
   "cell_type": "markdown",
   "metadata": {},
   "source": [
    "The classifier got 73% correct. However, we only used three trees, and this score can definitely be improved. To do so, we will use a grid search to find the best values for the parameters of our algorithm. This is called \"hyperparameter optimiztion\". First we see how altering the amount of trees affects accuracy."
   ]
  },
  {
   "cell_type": "code",
   "execution_count": 36,
   "metadata": {},
   "outputs": [],
   "source": [
    "results2 = [] ## The accuracy\n",
    "num2 = [] ## The number of trees used\n",
    "for i in range(3, 33, 3):\n",
    "    results2.append(predict(pitches_combined[train_columns], pitches_combined['pitch_type_numeric'], trees = i))\n",
    "    num2.append(i)"
   ]
  },
  {
   "cell_type": "code",
   "execution_count": 46,
   "metadata": {
    "scrolled": false
   },
   "outputs": [
    {
     "data": {
      "image/png": "[encoded data removed]",
      "text/plain": [
       "<Figure size 432x288 with 1 Axes>"
      ]
     },
     "metadata": {},
     "output_type": "display_data"
    }
   ],
   "source": [
    "sns.set_style('darkgrid')\n",
    "plt.plot(num2, results2, color = 'tomato', marker = '^', label = 'Default Parameters')\n",
    "plt.xlabel('# of trees')\n",
    "plt.ylabel('% accuracy')\n",
    "plt.title('Accuracy vs Trees, Combined Similar Pitches')\n",
    "plt.legend()\n",
    "plt.savefig('Default.png', dpi=300)"
   ]
  },
  {
   "cell_type": "markdown",
   "metadata": {},
   "source": [
    "**Grid Search**\n",
    "<br>\n",
    "Now we perform a grid search to find the best values for max_depth and max_features. max_depth determines how deep the decision trees go; max_features determines how many features are considered when splitting a node."
   ]
  },
  {
   "cell_type": "code",
   "execution_count": 141,
   "metadata": {},
   "outputs": [
    {
     "data": {
      "text/plain": [
       "GridSearchCV(cv=3, error_score='raise-deprecating',\n",
       "             estimator=RandomForestClassifier(bootstrap=True, class_weight=None,\n",
       "                                              criterion='gini', max_depth=None,\n",
       "                                              max_features='auto',\n",
       "                                              max_leaf_nodes=None,\n",
       "                                              min_impurity_decrease=0.0,\n",
       "                                              min_impurity_split=None,\n",
       "                                              min_samples_leaf=1,\n",
       "                                              min_samples_split=2,\n",
       "                                              min_weight_fraction_leaf=0.0,\n",
       "                                              n_estimators=10, n_jobs=-1,\n",
       "                                              oob_score=False,\n",
       "                                              random_state=None, verbose=0,\n",
       "                                              warm_start=False),\n",
       "             iid='warn', n_jobs=None,\n",
       "             param_grid={'max_depth': [5, 10, 15],\n",
       "                         'max_features': [3, 4, None]},\n",
       "             pre_dispatch='2*n_jobs', refit=True, return_train_score=False,\n",
       "             scoring=None, verbose=0)"
      ]
     },
     "execution_count": 141,
     "metadata": {},
     "output_type": "execute_result"
    }
   ],
   "source": [
    "## These are values we will try\n",
    "max_depth = [5, 10, 15]\n",
    "max_features = [3, 4, None]\n",
    "\n",
    "## Our train columns we've been using\n",
    "train_columns = ['start_speed', 'spin_rate', 'spin_dir', 'break_angle', 'break_length', 'handedness']\n",
    "\n",
    "## Splits our data as we usually do\n",
    "X_train, X_test, y_train, y_test = train_test_split(pitches_combined[train_columns], \n",
    "                                                    pitches_combined['pitch_type_numeric'], test_size=0.2, random_state=0)\n",
    "\n",
    "## Initializes the classifier\n",
    "classify = RandomForestClassifier(n_estimators = 10, n_jobs = -1)\n",
    "\n",
    "## These two lines will iterate through each combination of values that we set and will determine \n",
    "## the best combination. We call both that combination and the best accuracy.\n",
    "grid = GridSearchCV(estimator = classify, cv = 3, param_grid=dict(max_depth = max_depth, max_features = max_features))\n",
    "grid.fit(X_train, y_train)"
   ]
  },
  {
   "cell_type": "code",
   "execution_count": 142,
   "metadata": {},
   "outputs": [
    {
     "data": {
      "text/plain": [
       "0.7808059444247019"
      ]
     },
     "execution_count": 142,
     "metadata": {},
     "output_type": "execute_result"
    }
   ],
   "source": [
    "grid.best_score_"
   ]
  },
  {
   "cell_type": "code",
   "execution_count": 143,
   "metadata": {
    "scrolled": true
   },
   "outputs": [
    {
     "data": {
      "text/plain": [
       "{'max_depth': 15, 'max_features': 3}"
      ]
     },
     "execution_count": 143,
     "metadata": {},
     "output_type": "execute_result"
    }
   ],
   "source": [
    "grid.best_params_"
   ]
  },
  {
   "cell_type": "markdown",
   "metadata": {},
   "source": [
    "**And**, just to check that we shouldn't go any higher with \"max_depth\":"
   ]
  },
  {
   "cell_type": "code",
   "execution_count": 51,
   "metadata": {},
   "outputs": [
    {
     "data": {
      "text/plain": [
       "GridSearchCV(cv=3, error_score='raise-deprecating',\n",
       "             estimator=RandomForestClassifier(bootstrap=True, class_weight=None,\n",
       "                                              criterion='gini', max_depth=None,\n",
       "                                              max_features='auto',\n",
       "                                              max_leaf_nodes=None,\n",
       "                                              min_impurity_decrease=0.0,\n",
       "                                              min_impurity_split=None,\n",
       "                                              min_samples_leaf=1,\n",
       "                                              min_samples_split=2,\n",
       "                                              min_weight_fraction_leaf=0.0,\n",
       "                                              n_estimators=10, n_jobs=-1,\n",
       "                                              oob_score=False,\n",
       "                                              random_state=None, verbose=0,\n",
       "                                              warm_start=False),\n",
       "             iid='warn', n_jobs=None, param_grid={'max_depth': [15, 18]},\n",
       "             pre_dispatch='2*n_jobs', refit=True, return_train_score=False,\n",
       "             scoring=None, verbose=0)"
      ]
     },
     "execution_count": 51,
     "metadata": {},
     "output_type": "execute_result"
    }
   ],
   "source": [
    "max_depth = [15, 18]\n",
    "\n",
    "train_columns = ['start_speed', 'spin_rate', 'spin_dir', 'break_angle', 'break_length', 'handedness']\n",
    "\n",
    "X_train, X_test, y_train, y_test = train_test_split(pitches_combined[train_columns], pitches_combined['pitch_type_numeric'], test_size=0.2, random_state=0)\n",
    "classify = RandomForestClassifier(n_estimators = 10, n_jobs = -1)\n",
    "\n",
    "\n",
    "grid2 = GridSearchCV(estimator = classify, cv = 3, param_grid=dict(max_depth = max_depth))\n",
    "grid2.fit(X_train, y_train)"
   ]
  },
  {
   "cell_type": "code",
   "execution_count": 52,
   "metadata": {},
   "outputs": [
    {
     "data": {
      "text/plain": [
       "0.7804844861136615"
      ]
     },
     "execution_count": 52,
     "metadata": {},
     "output_type": "execute_result"
    }
   ],
   "source": [
    "grid2.best_score_"
   ]
  },
  {
   "cell_type": "code",
   "execution_count": 53,
   "metadata": {
    "scrolled": true
   },
   "outputs": [
    {
     "data": {
      "text/plain": [
       "{'max_depth': 15}"
      ]
     },
     "execution_count": 53,
     "metadata": {},
     "output_type": "execute_result"
    }
   ],
   "source": [
    "grid2.best_params_"
   ]
  },
  {
   "cell_type": "markdown",
   "metadata": {},
   "source": [
    "It appears that the best max_depth value is 15 and max_features is 3. Once again, let's test how n_estimators affects the accuracy now that the parameters are tuned:"
   ]
  },
  {
   "cell_type": "code",
   "execution_count": 54,
   "metadata": {},
   "outputs": [],
   "source": [
    "results3 = []\n",
    "num3 = []\n",
    "for i in range(3, 33, 3):\n",
    "    results3.append(predict(pitches_combined[train_columns], pitches_combined['pitch_type_numeric'], \n",
    "                            trees = i, depth = 15, features = 3))\n",
    "    num3.append(i)"
   ]
  },
  {
   "cell_type": "code",
   "execution_count": 73,
   "metadata": {},
   "outputs": [
    {
     "data": {
      "image/png": "[encoded data removed]",
      "text/plain": [
       "<Figure size 432x288 with 1 Axes>"
      ]
     },
     "metadata": {},
     "output_type": "display_data"
    },
    {
     "data": {
      "image/png": "[encoded data removed]",
      "text/plain": [
       "<Figure size 432x288 with 1 Axes>"
      ]
     },
     "metadata": {},
     "output_type": "display_data"
    }
   ],
   "source": [
    "sns.set_style('darkgrid')\n",
    "plt.figure(0)\n",
    "plt.plot(num3, results3, label = 'Tuned Params', marker = 's')\n",
    "plt.plot(num2, results2, color = 'tomato', label = 'Default Params', marker = '^')\n",
    "plt.xlabel('# of trees')\n",
    "plt.ylabel('% accuracy')\n",
    "plt.title('Accuracy vs Trees, Combined Similar Pitches')\n",
    "plt.legend()\n",
    "plt.savefig('Combined.png', dpi = 300)\n",
    "\n",
    "plt.figure(1)\n",
    "plt.plot(num3, results3, label = 'Tuned Params', marker = 's')\n",
    "plt.xlabel('# of trees')\n",
    "plt.ylabel('% accuracy')\n",
    "plt.title('Accuracy vs Trees, Combined Similar Pitches')\n",
    "plt.legend()\n",
    "plt.savefig('Hyper.png', dpi = 300)"
   ]
  },
  {
   "cell_type": "markdown",
   "metadata": {},
   "source": [
    "<a class=\"anchor\" id=\"Results\"></a>\n",
    "***\n",
    "## 3. Results"
   ]
  },
  {
   "cell_type": "markdown",
   "metadata": {},
   "source": [
    "\n",
    "**Pitch Classification**\n",
    "<br>\n",
    "Overall, the classifier seems to be very successful. Accuracy of over 78% is decent — especially considering that guessing based off frequency of pitches yields only 20% and ZeroR is 36% accurate. "
   ]
  },
  {
   "cell_type": "code",
   "execution_count": 137,
   "metadata": {
    "scrolled": true
   },
   "outputs": [
    {
     "data": {
      "text/plain": [
       "<matplotlib.legend.Legend at 0x2e746dbc0b8>"
      ]
     },
     "execution_count": 137,
     "metadata": {},
     "output_type": "execute_result"
    },
    {
     "data": {
      "image/png": "[encoded data removed]",
      "text/plain": [
       "<Figure size 432x288 with 1 Axes>"
      ]
     },
     "metadata": {},
     "output_type": "display_data"
    }
   ],
   "source": [
    "sns.set_style('whitegrid')\n",
    "plt.figure(0)\n",
    "plt.plot(num3, results3, label = 'Tuned Params', marker = 's')\n",
    "plt.plot(num2, results2, color = 'tomato', label = 'Default Params', marker = '^')\n",
    "plt.xlabel('# of trees')\n",
    "plt.ylabel('% accuracy')\n",
    "plt.title('Accuracy vs Trees, Combined Similar Pitches')\n",
    "plt.legend()"
   ]
  },
  {
   "cell_type": "markdown",
   "metadata": {},
   "source": [
    "One of the more interesting results is how much better the performance is when we tune hyperparameters. Even three tuned trees is more accurate than thirty trees with default parameters. "
   ]
  },
  {
   "cell_type": "markdown",
   "metadata": {},
   "source": [
    "***\n",
    "<a class=\"anchor\" id=\"Discussion\"></a>\n",
    "## 4. Discussion and Conclusion"
   ]
  },
  {
   "cell_type": "markdown",
   "metadata": {},
   "source": [
    "Regarding the apparent umpire bias when calling pitches, the MLB should look into solidifying its guidelines so both batters and pitchers know what to expect. Or, a computerized system similar to what I created here might be used instead of an umpire altogether. The game could be greatly improved — missing 12% of calls is unacceptable. \n",
    "\n",
    "While classifying pitches may be an interesting project, it still has limited use. Perhaps the only use might be to quickly display on a broadcast which pitch was just thrown. Other machine learning applications may prove to be more useful. One of these, which I might attempt in the future, is predicting the next pitch that will be thrown. However, this is technically illegal in the MLB. The use of technology like this is prohibited, such as the use of the midfield camera to steal signs by the World Series winning Astros team. Former NASA engineer and current entertainer Mark Rober has done something similar: he created a phone app that uses machine learning to steal stealing signs (the third base coach will signal to the first base runner if he should steal second base or not). Rober used a neural net for this purpose, something else that should be tried for both classifying pitches and guessing the next pitch. \n",
    "\n",
    "***\n",
    "**Drawbacks of both methods**\n",
    "\n",
    "One large drawback of the masking method for ball-strike calls is the use of the universal strike zone. In reality, players are different heights, and so the height of the strike zone changes. The strike zone usually extends from the bottom of the knee cap to the midpoint between their waist and shoulders. But as shown, most incorrect calls have to do with width, not height, and the strike zone remains a contant width. \n",
    "\n",
    "My method of classifying pitches also has its problems. The only metric used to evaluate the classifier, accuracy, can be very flawed. For example, if a fastball is only thown 5% of the time, and the classifier can guess if a fastball was thrown  with 95% accuracy, then this actually is not very impressive. The classifier really only could have guessed \"false\" everytime to get that level of accuracy. This is also why so little time was spent on single-class classification. In the future I would like to implement more advanced evaluation metrics to further improve performance. Furthermore, I would like to investigate how to better do machine learning problems where the classes have very uneven frequency. I also plan to verify the common thought that scaling the data has no effect on performance.\n"
   ]
  },
  {
   "cell_type": "markdown",
   "metadata": {},
   "source": [
    "***\n",
    "## 5. References\n",
    "(EdChum - Reinstate Monica). \"Add new column based on boolean values in a different column\" #25570219 . 29 August 2019. Forum post. https://stackoverflow.com/questions/25570147/add-new-column-based-on-boolean-values-in-a-different-column\n",
    "\n",
    "Lutins, Evan. “Grid Searching in Machine Learning: Quick Explanation and Python Implementation.” Medium, 5 Sept. 2017, https://medium.com/@elutins/grid-searching-in-machine-learning-quick-explanation-and-python-implementation-550552200596.\n",
    "\n",
    "Malik, Usman. “Random Forest Algorithm with Python and Scikit-Learn.” Stack Abuse, 13 June 2018, https://stackabuse.com/random-forest-algorithm-with-python-and-scikit-learn/.\n",
    "\n",
    "(praful gupta). \"python pandas dataframe to dictionary\" #39837358 . 3 October 2016. Forum post. https://stackoverflow.com/questions/18695605/python-pandas-dataframe-to-dictionary/39837358#39837358\n",
    "\n",
    "Schale, Paul. “MLB Pitch Data 2015-2018.” Kaggle, 12 Dec. 2018, https://www.kaggle.com/pschale/mlb-pitch-data-20152018."
   ]
  }
 ],
 "metadata": {
  "kernelspec": {
   "display_name": "Python 3",
   "language": "python",
   "name": "python3"
  },
  "language_info": {
   "codemirror_mode": {
    "name": "ipython",
    "version": 3
   },
   "file_extension": ".py",
   "mimetype": "text/x-python",
   "name": "python",
   "nbconvert_exporter": "python",
   "pygments_lexer": "ipython3",
   "version": "3.7.6"
  }
 },
 "nbformat": 4,
 "nbformat_minor": 2
}
